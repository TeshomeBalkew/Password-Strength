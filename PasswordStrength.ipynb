{
 "cells": [
  {
   "cell_type": "markdown",
   "metadata": {},
   "source": [
    "# Check Password Strength Using ML algorithms"
   ]
  },
  {
   "cell_type": "markdown",
   "metadata": {},
   "source": [
    "The data set is taken from UCI machine learning Repository. The data has two columns.\n",
    "First column is the password. Second column has three value 0, 1, 2 (categorical variable).\n",
    "0 means password is weak\n",
    "\n",
    "1 indicates password has medium strength.\n",
    "\n",
    "2 means the pass word is strong."
   ]
  },
  {
   "cell_type": "markdown",
   "metadata": {},
   "source": [
    "### Importing python Libraries "
   ]
  },
  {
   "cell_type": "code",
   "execution_count": null,
   "metadata": {},
   "outputs": [],
   "source": [
    "import pandas as pd\n",
    "import numpy as np\n",
    "import random\n",
    "import seaborn as sns\n",
    "import warnings\n",
    "warnings.filterwarnings('ignore')"
   ]
  },
  {
   "cell_type": "markdown",
   "metadata": {},
   "source": [
    "### Reading the data"
   ]
  },
  {
   "cell_type": "code",
   "execution_count": null,
   "metadata": {},
   "outputs": [],
   "source": [
    "\n",
    "data = pd.read_csv('data.csv',',',error_bad_lines=False)\n"
   ]
  },
  {
   "cell_type": "code",
   "execution_count": 58,
   "metadata": {},
   "outputs": [
    {
     "data": {
      "text/plain": [
       "(669640, 2)"
      ]
     },
     "execution_count": 58,
     "metadata": {},
     "output_type": "execute_result"
    }
   ],
   "source": [
    "data.shape"
   ]
  },
  {
   "cell_type": "code",
   "execution_count": 59,
   "metadata": {},
   "outputs": [
    {
     "data": {
      "text/html": [
       "<div>\n",
       "<style scoped>\n",
       "    .dataframe tbody tr th:only-of-type {\n",
       "        vertical-align: middle;\n",
       "    }\n",
       "\n",
       "    .dataframe tbody tr th {\n",
       "        vertical-align: top;\n",
       "    }\n",
       "\n",
       "    .dataframe thead th {\n",
       "        text-align: right;\n",
       "    }\n",
       "</style>\n",
       "<table border=\"1\" class=\"dataframe\">\n",
       "  <thead>\n",
       "    <tr style=\"text-align: right;\">\n",
       "      <th></th>\n",
       "      <th>password</th>\n",
       "      <th>strength</th>\n",
       "    </tr>\n",
       "  </thead>\n",
       "  <tbody>\n",
       "    <tr>\n",
       "      <th>0</th>\n",
       "      <td>kzde5577</td>\n",
       "      <td>1</td>\n",
       "    </tr>\n",
       "    <tr>\n",
       "      <th>1</th>\n",
       "      <td>kino3434</td>\n",
       "      <td>1</td>\n",
       "    </tr>\n",
       "    <tr>\n",
       "      <th>2</th>\n",
       "      <td>visi7k1yr</td>\n",
       "      <td>1</td>\n",
       "    </tr>\n",
       "    <tr>\n",
       "      <th>3</th>\n",
       "      <td>megzy123</td>\n",
       "      <td>1</td>\n",
       "    </tr>\n",
       "    <tr>\n",
       "      <th>4</th>\n",
       "      <td>lamborghin1</td>\n",
       "      <td>1</td>\n",
       "    </tr>\n",
       "    <tr>\n",
       "      <th>5</th>\n",
       "      <td>AVYq1lDE4MgAZfNt</td>\n",
       "      <td>2</td>\n",
       "    </tr>\n",
       "    <tr>\n",
       "      <th>6</th>\n",
       "      <td>u6c8vhow</td>\n",
       "      <td>1</td>\n",
       "    </tr>\n",
       "    <tr>\n",
       "      <th>7</th>\n",
       "      <td>v1118714</td>\n",
       "      <td>1</td>\n",
       "    </tr>\n",
       "    <tr>\n",
       "      <th>8</th>\n",
       "      <td>universe2908</td>\n",
       "      <td>1</td>\n",
       "    </tr>\n",
       "    <tr>\n",
       "      <th>9</th>\n",
       "      <td>as326159</td>\n",
       "      <td>1</td>\n",
       "    </tr>\n",
       "    <tr>\n",
       "      <th>10</th>\n",
       "      <td>asv5o9yu</td>\n",
       "      <td>1</td>\n",
       "    </tr>\n",
       "    <tr>\n",
       "      <th>11</th>\n",
       "      <td>612035180tok</td>\n",
       "      <td>1</td>\n",
       "    </tr>\n",
       "    <tr>\n",
       "      <th>12</th>\n",
       "      <td>jytifok873</td>\n",
       "      <td>1</td>\n",
       "    </tr>\n",
       "    <tr>\n",
       "      <th>13</th>\n",
       "      <td>WUt9IZzE0OQ7PkNE</td>\n",
       "      <td>2</td>\n",
       "    </tr>\n",
       "    <tr>\n",
       "      <th>14</th>\n",
       "      <td>jerusalem393</td>\n",
       "      <td>1</td>\n",
       "    </tr>\n",
       "    <tr>\n",
       "      <th>15</th>\n",
       "      <td>g067057895</td>\n",
       "      <td>1</td>\n",
       "    </tr>\n",
       "    <tr>\n",
       "      <th>16</th>\n",
       "      <td>52558000aaa</td>\n",
       "      <td>1</td>\n",
       "    </tr>\n",
       "    <tr>\n",
       "      <th>17</th>\n",
       "      <td>idofo673</td>\n",
       "      <td>1</td>\n",
       "    </tr>\n",
       "    <tr>\n",
       "      <th>18</th>\n",
       "      <td>6975038lp</td>\n",
       "      <td>1</td>\n",
       "    </tr>\n",
       "    <tr>\n",
       "      <th>19</th>\n",
       "      <td>sbl571017</td>\n",
       "      <td>1</td>\n",
       "    </tr>\n",
       "    <tr>\n",
       "      <th>20</th>\n",
       "      <td>elyass15@ajilent-ci</td>\n",
       "      <td>2</td>\n",
       "    </tr>\n",
       "    <tr>\n",
       "      <th>21</th>\n",
       "      <td>intel1</td>\n",
       "      <td>0</td>\n",
       "    </tr>\n",
       "    <tr>\n",
       "      <th>22</th>\n",
       "      <td>klara-tershina3H</td>\n",
       "      <td>2</td>\n",
       "    </tr>\n",
       "    <tr>\n",
       "      <th>23</th>\n",
       "      <td>czuodhj972</td>\n",
       "      <td>1</td>\n",
       "    </tr>\n",
       "    <tr>\n",
       "      <th>24</th>\n",
       "      <td>faranumar91</td>\n",
       "      <td>1</td>\n",
       "    </tr>\n",
       "  </tbody>\n",
       "</table>\n",
       "</div>"
      ],
      "text/plain": [
       "               password  strength\n",
       "0              kzde5577         1\n",
       "1              kino3434         1\n",
       "2             visi7k1yr         1\n",
       "3              megzy123         1\n",
       "4           lamborghin1         1\n",
       "5      AVYq1lDE4MgAZfNt         2\n",
       "6              u6c8vhow         1\n",
       "7              v1118714         1\n",
       "8          universe2908         1\n",
       "9              as326159         1\n",
       "10             asv5o9yu         1\n",
       "11         612035180tok         1\n",
       "12           jytifok873         1\n",
       "13     WUt9IZzE0OQ7PkNE         2\n",
       "14         jerusalem393         1\n",
       "15           g067057895         1\n",
       "16          52558000aaa         1\n",
       "17             idofo673         1\n",
       "18            6975038lp         1\n",
       "19            sbl571017         1\n",
       "20  elyass15@ajilent-ci         2\n",
       "21               intel1         0\n",
       "22     klara-tershina3H         2\n",
       "23           czuodhj972         1\n",
       "24          faranumar91         1"
      ]
     },
     "execution_count": 59,
     "metadata": {},
     "output_type": "execute_result"
    }
   ],
   "source": [
    "data.head(25)"
   ]
  },
  {
   "cell_type": "markdown",
   "metadata": {},
   "source": [
    "### Checking for missing values"
   ]
  },
  {
   "cell_type": "code",
   "execution_count": 60,
   "metadata": {},
   "outputs": [
    {
     "data": {
      "text/plain": [
       "password    1\n",
       "strength    0\n",
       "dtype: int64"
      ]
     },
     "execution_count": 60,
     "metadata": {},
     "output_type": "execute_result"
    }
   ],
   "source": [
    "data.isnull().sum()"
   ]
  },
  {
   "cell_type": "markdown",
   "metadata": {},
   "source": [
    "### Let us chech which particular value is missing. "
   ]
  },
  {
   "cell_type": "code",
   "execution_count": 61,
   "metadata": {},
   "outputs": [
    {
     "data": {
      "text/html": [
       "<div>\n",
       "<style scoped>\n",
       "    .dataframe tbody tr th:only-of-type {\n",
       "        vertical-align: middle;\n",
       "    }\n",
       "\n",
       "    .dataframe tbody tr th {\n",
       "        vertical-align: top;\n",
       "    }\n",
       "\n",
       "    .dataframe thead th {\n",
       "        text-align: right;\n",
       "    }\n",
       "</style>\n",
       "<table border=\"1\" class=\"dataframe\">\n",
       "  <thead>\n",
       "    <tr style=\"text-align: right;\">\n",
       "      <th></th>\n",
       "      <th>password</th>\n",
       "      <th>strength</th>\n",
       "    </tr>\n",
       "  </thead>\n",
       "  <tbody>\n",
       "    <tr>\n",
       "      <th>367579</th>\n",
       "      <td>NaN</td>\n",
       "      <td>0</td>\n",
       "    </tr>\n",
       "  </tbody>\n",
       "</table>\n",
       "</div>"
      ],
      "text/plain": [
       "       password  strength\n",
       "367579      NaN         0"
      ]
     },
     "execution_count": 61,
     "metadata": {},
     "output_type": "execute_result"
    }
   ],
   "source": [
    "data[data['password'].isnull()]"
   ]
  },
  {
   "cell_type": "markdown",
   "metadata": {},
   "source": [
    "### Since there is only one missing value we can dro it. "
   ]
  },
  {
   "cell_type": "code",
   "execution_count": 62,
   "metadata": {},
   "outputs": [],
   "source": [
    "data.dropna(inplace=True)"
   ]
  },
  {
   "cell_type": "code",
   "execution_count": 63,
   "metadata": {},
   "outputs": [
    {
     "data": {
      "text/plain": [
       "password    0\n",
       "strength    0\n",
       "dtype: int64"
      ]
     },
     "execution_count": 63,
     "metadata": {},
     "output_type": "execute_result"
    }
   ],
   "source": [
    "data.isnull().sum()"
   ]
  },
  {
   "cell_type": "markdown",
   "metadata": {},
   "source": [
    "### Change to array for ease of working on it."
   ]
  },
  {
   "cell_type": "code",
   "execution_count": 64,
   "metadata": {},
   "outputs": [],
   "source": [
    "password_tuples = np.array(data)"
   ]
  },
  {
   "cell_type": "code",
   "execution_count": 65,
   "metadata": {},
   "outputs": [
    {
     "data": {
      "text/plain": [
       "array([['kzde5577', 1],\n",
       "       ['kino3434', 1],\n",
       "       ['visi7k1yr', 1],\n",
       "       ...,\n",
       "       ['184520socram', 1],\n",
       "       ['marken22a', 1],\n",
       "       ['fxx4pw4g', 1]], dtype=object)"
      ]
     },
     "execution_count": 65,
     "metadata": {},
     "output_type": "execute_result"
    }
   ],
   "source": [
    "password_tuples"
   ]
  },
  {
   "cell_type": "markdown",
   "metadata": {},
   "source": [
    "### Shuffling randomly for robustness"
   ]
  },
  {
   "cell_type": "code",
   "execution_count": 66,
   "metadata": {},
   "outputs": [],
   "source": [
    "\n",
    "import random\n",
    "random.shuffle(password_tuples)"
   ]
  },
  {
   "cell_type": "markdown",
   "metadata": {},
   "source": [
    "### Dividing the data set as dependent and independent columns."
   ]
  },
  {
   "cell_type": "code",
   "execution_count": 67,
   "metadata": {},
   "outputs": [],
   "source": [
    "\n",
    "X = [lables[0] for lables in password_tuples]"
   ]
  },
  {
   "cell_type": "code",
   "execution_count": 68,
   "metadata": {},
   "outputs": [],
   "source": [
    "y = [lables[1] for lables in password_tuples]"
   ]
  },
  {
   "cell_type": "markdown",
   "metadata": {},
   "source": [
    "### Use countplot to plot  the categorical variables."
   ]
  },
  {
   "cell_type": "code",
   "execution_count": 70,
   "metadata": {},
   "outputs": [
    {
     "data": {
      "text/plain": [
       "<matplotlib.axes._subplots.AxesSubplot at 0x7f8ee5582a00>"
      ]
     },
     "execution_count": 70,
     "metadata": {},
     "output_type": "execute_result"
    },
    {
     "data": {
      "image/png": "[encoded data removed]",
      "text/plain": [
       "<Figure size 432x288 with 1 Axes>"
      ]
     },
     "metadata": {},
     "output_type": "display_data"
    }
   ],
   "source": [
    "sns.set_style('whitegrid')\n",
    "sns.countplot(x='strength',data=data,palette='RdBu_r')"
   ]
  },
  {
   "cell_type": "markdown",
   "metadata": {},
   "source": [
    "### We us NLP to determine the strenth of the passwords."
   ]
  },
  {
   "cell_type": "code",
   "execution_count": 72,
   "metadata": {},
   "outputs": [
    {
     "data": {
      "text/plain": [
       "['kzde5577',\n",
       " 'kzde5577',\n",
       " 'kzde5577',\n",
       " 'visi7k1yr',\n",
       " 'lamborghin1',\n",
       " 'AVYq1lDE4MgAZfNt',\n",
       " 'AVYq1lDE4MgAZfNt',\n",
       " 'megzy123',\n",
       " 'lamborghin1',\n",
       " 'kzde5577',\n",
       " 'universe2908',\n",
       " 'megzy123',\n",
       " 'as326159',\n",
       " 'megzy123',\n",
       " 'u6c8vhow',\n",
       " 'v1118714',\n",
       " 'as326159',\n",
       " '52558000aaa',\n",
       " 'g067057895',\n",
       " 'megzy123',\n",
       " '6975038lp',\n",
       " 'WUt9IZzE0OQ7PkNE',\n",
       " 'WUt9IZzE0OQ7PkNE',\n",
       " 'elyass15@ajilent-ci',\n",
       " 'visi7k1yr',\n",
       " 'visi7k1yr',\n",
       " 'asv5o9yu',\n",
       " 'idofo673',\n",
       " 'kino3434',\n",
       " '612035180tok',\n",
       " 'universe2908',\n",
       " '0169395484a',\n",
       " 'elyass15@ajilent-ci',\n",
       " 'klara-tershina3H',\n",
       " 'faranumar91',\n",
       " 'u6c8vhow',\n",
       " 'u6c8vhow',\n",
       " 'faranumar91',\n",
       " 'cigicigi123',\n",
       " 'AVYq1lDE4MgAZfNt',\n",
       " 'trabajonet9',\n",
       " 'fahad123',\n",
       " 'u6c8vhow',\n",
       " 'alimagik1',\n",
       " 'megzy123',\n",
       " 'lamborghin1',\n",
       " 'gaymaids1',\n",
       " 'elyass15@ajilent-ci',\n",
       " 'g067057895',\n",
       " '612035180tok',\n",
       " 'visi7k1yr',\n",
       " 'g067057895',\n",
       " 'asv5o9yu',\n",
       " '612035180tok',\n",
       " 'fahad123',\n",
       " '612035180tok',\n",
       " 'yitbos77',\n",
       " 'b4NbTxDEyNgG141J',\n",
       " 'patri1973',\n",
       " 'kswa2mrv',\n",
       " 'patri1973',\n",
       " 'universe2908',\n",
       " 'olmaz.',\n",
       " 'patri1973',\n",
       " 'ejeko677',\n",
       " 'c3h8bkzr',\n",
       " 'khmer100.03278&?><Mnb',\n",
       " 'il0vey0u',\n",
       " 'kino3434',\n",
       " 'yk530mg8',\n",
       " 'yqugu927',\n",
       " 'kjkjkj1',\n",
       " 'matiofox08',\n",
       " 'g067057895',\n",
       " 'kino3434',\n",
       " 'v1118714',\n",
       " 'mickael12',\n",
       " 'obstacle25',\n",
       " 'lsdlsd1',\n",
       " 'v1118714',\n",
       " 'jalingo1',\n",
       " 'yqugu927',\n",
       " 'rntprns7',\n",
       " '52558000aaa',\n",
       " '2021848709.',\n",
       " 'kzde5577',\n",
       " 'bozoxik602',\n",
       " 'g067057895',\n",
       " 'jytifok873',\n",
       " 'kswa2mrv',\n",
       " '123477889a',\n",
       " 'gill02',\n",
       " 'AVYq1lDE4MgAZfNt',\n",
       " 'ga98SIzk0NwhiZaE',\n",
       " 'jalingo1',\n",
       " 'p2share',\n",
       " 'woon12',\n",
       " 'Iamthelegend1!',\n",
       " 'lamborghin1',\n",
       " 'cesarmaio1',\n",
       " 'fk9qi21m',\n",
       " 'trabajonet9',\n",
       " 'kjkjkj1',\n",
       " '3vszncp4',\n",
       " 'ikanez886',\n",
       " 'idofo673',\n",
       " 'cesarmaio1',\n",
       " 'yitbos77',\n",
       " 'ns2b0727',\n",
       " 'obstacle25',\n",
       " 'calcifer32',\n",
       " 'kjkjkj1',\n",
       " 'memjan123',\n",
       " '3vszncp4',\n",
       " 'sbl571017',\n",
       " 'yk530mg8',\n",
       " 'ns2b0727',\n",
       " 'g067057895',\n",
       " 'mickael12',\n",
       " 'bozoxik602',\n",
       " 'gaymaids1',\n",
       " 'kunyukbabi69',\n",
       " 'yllime123',\n",
       " 'teemteem97',\n",
       " '612035180tok',\n",
       " '746xitEGiqObog',\n",
       " 'hayhayq2',\n",
       " 'fnmsdha476',\n",
       " 'oekojWyH120063',\n",
       " 'xiau5ff',\n",
       " 'bgrvl80',\n",
       " 'xiau5ff',\n",
       " 'intel1',\n",
       " 'a2531106',\n",
       " 'schalke04',\n",
       " 'ejeko677',\n",
       " 'ass359',\n",
       " 'fnmsdha476',\n",
       " 'faranumar91',\n",
       " 'woon12',\n",
       " '3y6iwef2g6',\n",
       " 'yu4cmn',\n",
       " 'yk530mg8',\n",
       " 'kinga22',\n",
       " 'jytifok873',\n",
       " 'v1118714',\n",
       " '283671gus',\n",
       " 'v1118714',\n",
       " 'oekojWyH120063',\n",
       " 'v1118714',\n",
       " 'jerusalem393',\n",
       " '3y6iwef2g6',\n",
       " 'exitos2009',\n",
       " '64959rodro',\n",
       " 'z3ro1sm',\n",
       " 'jalingo1',\n",
       " 'tin030201',\n",
       " 'c3h8bkzr',\n",
       " '0169395484a',\n",
       " 'bozoxik602',\n",
       " '5gzj5uf',\n",
       " 'gaymaids1',\n",
       " 'tamanagung6',\n",
       " 'gdfn76',\n",
       " 'universe2908',\n",
       " '2fakjv',\n",
       " 'afs34214',\n",
       " '2fakjv',\n",
       " 'RqsuUsDYxNgr8T40',\n",
       " 'v1118714',\n",
       " 'obstacle25',\n",
       " 's9830950044',\n",
       " 'p@sslng2diword',\n",
       " 'czuodhj972',\n",
       " 'sarahi1628',\n",
       " 'd04m11',\n",
       " '2yz4ewwg',\n",
       " 'Iamthelegend1!',\n",
       " 'kjkjkj1',\n",
       " '283671gus',\n",
       " 'ginger972',\n",
       " 'teste10',\n",
       " 'il0vey0u',\n",
       " 'juliel009',\n",
       " '52558000aaa',\n",
       " 'pato221182',\n",
       " '123477889a',\n",
       " 'zoobike04',\n",
       " 'kswa2mrv',\n",
       " 'teste10',\n",
       " 'gdfn76',\n",
       " 'prisonbreak1',\n",
       " '0870330135a',\n",
       " 'kjkjkj1',\n",
       " '838188linh',\n",
       " 's4m2dx9e6',\n",
       " 's0xwym7h',\n",
       " '20010509wang',\n",
       " 'portales1',\n",
       " 'njmania114',\n",
       " 'v10rica',\n",
       " 'prisonbreak1',\n",
       " 'sarahi1628',\n",
       " 'ldteugao6',\n",
       " 'mohantra1',\n",
       " 'wxS2ztDk4OATjBfI',\n",
       " 'hayhayq2',\n",
       " '215466kenyi',\n",
       " 'denise18',\n",
       " 'mmm23mm',\n",
       " 'gandhi8513',\n",
       " '10Erjrlmebup0n',\n",
       " 'b4NbTxDEyNgG141J',\n",
       " '612035180tok',\n",
       " 'klara-tershina3H',\n",
       " 'tia150979',\n",
       " 'z888888',\n",
       " 'bozoxik602',\n",
       " 'juliana19',\n",
       " 'yqugu927',\n",
       " 'alimagik1',\n",
       " 'cockw0mble',\n",
       " 'XqMB7vDMzOQocAFV',\n",
       " 'X9WVojjE4MgVAIiR',\n",
       " 'yuri110995',\n",
       " 'ejeko677',\n",
       " '612035180tok',\n",
       " 'ga98SIzk0NwhiZaE',\n",
       " 'qn5xpg3k00',\n",
       " 'kswa2mrv',\n",
       " 'poseidon2011',\n",
       " '3vszncp4',\n",
       " 'elyass15@ajilent-ci',\n",
       " 'ga98SIzk0NwhiZaE',\n",
       " 'gozv3e5',\n",
       " 'caramelo9',\n",
       " 'z888888',\n",
       " 'gtlek',\n",
       " 'franczuk33',\n",
       " '2021848709.',\n",
       " '2010server',\n",
       " 'robot425',\n",
       " 'z7zbgIDkzMQeHUd9',\n",
       " 'hodygid757',\n",
       " 'meriton23',\n",
       " 'c3h8bkzr',\n",
       " 'okn9zp9o',\n",
       " 'hodygid757',\n",
       " 'afs34214',\n",
       " 'mickael12',\n",
       " 'atigi839',\n",
       " 'mustang337',\n",
       " 'ebacuro434',\n",
       " 'caramelo9',\n",
       " '929865yt',\n",
       " '215466kenyi',\n",
       " 'alimagik1',\n",
       " 'jalingo1',\n",
       " 'ikanez886',\n",
       " 'peluchin4',\n",
       " 'w9209640',\n",
       " 'mickael12',\n",
       " 'fahad123',\n",
       " 'b4NbTxDEyNgG141J',\n",
       " 'sarahi1628',\n",
       " '147963asd',\n",
       " 'edcmki90',\n",
       " 'calcifer32',\n",
       " 'yut0838828185',\n",
       " 'kayal123',\n",
       " 'mustang337',\n",
       " '33kanun03',\n",
       " '2021848709.',\n",
       " 'caramelo9',\n",
       " 'idofo673',\n",
       " '4fqa52vecr',\n",
       " 'yk530mg8',\n",
       " 'a2486315',\n",
       " '52558000aaa',\n",
       " '0169395484a',\n",
       " 'gozv3e5',\n",
       " 'uou2dae',\n",
       " 'pato221182',\n",
       " 'josue12',\n",
       " 'AS0130066',\n",
       " 'gdfn76',\n",
       " 'ebacuro434',\n",
       " 'asgaliu11',\n",
       " 'franczuk33',\n",
       " 'uou2dae',\n",
       " 'WUt9IZzE0OQ7PkNE',\n",
       " 'wycinu436',\n",
       " 'z3ro1sm',\n",
       " 'QWERTY0011',\n",
       " 'sbaUsoTA1OAzuevI',\n",
       " 'sanki1',\n",
       " 'hosna1368',\n",
       " 'frhnsvelhfr1',\n",
       " 'demon10',\n",
       " 'a0972986650',\n",
       " 'xyws951753',\n",
       " '20010509wang',\n",
       " 'snolyuj04',\n",
       " 'x0004534',\n",
       " 'ycqtgdso3',\n",
       " 'gtlek',\n",
       " 'uxyloga692',\n",
       " 'qn5xpg3k00',\n",
       " 'WUt9IZzE0OQ7PkNE',\n",
       " 'demon10',\n",
       " 'sydney213',\n",
       " '6yy6yy',\n",
       " 'frhnsvelhfr1',\n",
       " 'tia150979',\n",
       " 'v10rica',\n",
       " 'z7zbgIDkzMQeHUd9',\n",
       " 'klara-tershina3H',\n",
       " 'roxana1993',\n",
       " 'damyvo114',\n",
       " 'woon12',\n",
       " 'elyass15@ajilent-ci',\n",
       " 'rntprns7',\n",
       " 'sarahi1628',\n",
       " 'klara-tershina3H',\n",
       " 'fahad123',\n",
       " 'RPFUOUDQwMwVW0AS',\n",
       " '123net123',\n",
       " 'kry1z9',\n",
       " 'ass359',\n",
       " 'b4NbTxDEyNgG141J',\n",
       " 'kyxvufl37',\n",
       " 'mazdarx7',\n",
       " '4osxw4r',\n",
       " 'patri1973',\n",
       " 'folashade1',\n",
       " 'poseidon2011',\n",
       " 'warriors08',\n",
       " '12345yolanda',\n",
       " 'z7zbgIDkzMQeHUd9',\n",
       " 'saule123',\n",
       " 'gandhi8513',\n",
       " 'marita1',\n",
       " 'holamundo1',\n",
       " 'a2486315',\n",
       " 'universe2908',\n",
       " 'aslpls2009',\n",
       " 'kyxvufl37',\n",
       " 'hosna1368',\n",
       " 'c3h8bkzr',\n",
       " 'WUt9IZzE0OQ7PkNE',\n",
       " 'pablo321159',\n",
       " 'patty94',\n",
       " '2fakjv',\n",
       " 'qn5xpg3k00',\n",
       " '26522876p',\n",
       " 'shotiko18',\n",
       " 'damyvo114',\n",
       " 'cdann123',\n",
       " 'v1118714',\n",
       " 'aslpls2009',\n",
       " 'intel1',\n",
       " 'tia150979',\n",
       " 'kitty555',\n",
       " 'hodygid757',\n",
       " 'khurram_',\n",
       " 'wo9aiwangyan',\n",
       " 'juliel009',\n",
       " 'ryjypes139',\n",
       " '1ngaymuadong',\n",
       " 'hpqkoxsn5',\n",
       " 'icap12',\n",
       " 'aquhih220',\n",
       " 'isqizkg1',\n",
       " 'WUt9IZzE0OQ7PkNE',\n",
       " 'ga98SIzk0NwhiZaE',\n",
       " 'yuri110995',\n",
       " 'xyws951753',\n",
       " 'czuodhj972',\n",
       " 'y0unus',\n",
       " 'cristiano7',\n",
       " 'pablo321159',\n",
       " 'kenneth610',\n",
       " 'aosmaxd0',\n",
       " 'megzy123',\n",
       " 'IRZA98',\n",
       " 'juliel009',\n",
       " 'gvczfel801',\n",
       " 'g067057895',\n",
       " 'kyodai666',\n",
       " 'cesarmaio1',\n",
       " 's0xwym7h',\n",
       " 'josue12',\n",
       " 'kitty555',\n",
       " 'k9b8cz6aj2',\n",
       " 'taurofive16',\n",
       " 'metopelo1623',\n",
       " 'seng987321',\n",
       " 'z7zbgIDkzMQeHUd9',\n",
       " 'WUt9IZzE0OQ7PkNE',\n",
       " 'tomas7896',\n",
       " 'kP82iqDMxNgBMxBP',\n",
       " 'fk9qi21m',\n",
       " 'gozv3e5',\n",
       " 'kuntz80',\n",
       " 'just1n0k',\n",
       " 'kry1z9',\n",
       " '10Erjrlmebup0n',\n",
       " 'clave2013',\n",
       " 'webstudio8',\n",
       " 'jsm159167',\n",
       " 'ppnyadam09',\n",
       " 'denise18',\n",
       " 'sanki1',\n",
       " 'hodygid757',\n",
       " 'gozv3e5',\n",
       " 'kswa2mrv',\n",
       " '2fakjv',\n",
       " 'portales1',\n",
       " 'hpqkoxsn5',\n",
       " 'matiofox08',\n",
       " 'sarahi1628',\n",
       " 'cUFUSYKIPuGo024',\n",
       " 'peluchin4',\n",
       " 'ajyrew547',\n",
       " 'j09000',\n",
       " 'franczuk33',\n",
       " 'krumbul123',\n",
       " 'kikeq102',\n",
       " 'novelia21',\n",
       " 'iwaguh884',\n",
       " 'metopelo1623',\n",
       " 'metopelo1623',\n",
       " 'jytifok873',\n",
       " 'il0vey0u',\n",
       " 'kdl9cl53',\n",
       " 'junaid5',\n",
       " 'qn5xpg3k00',\n",
       " 'sasuke4',\n",
       " '123net123',\n",
       " 'q0pv0fk',\n",
       " 'bgrvl80',\n",
       " 'bang6k',\n",
       " 'patty94',\n",
       " 'fudijep286',\n",
       " 't8IkFRDIxMAFV2JW',\n",
       " 'a2531106',\n",
       " 'gozv3e5',\n",
       " 'a03242241431a',\n",
       " 'vietnga92',\n",
       " 'lymuvop730',\n",
       " 'gozv3e5',\n",
       " 'seller1',\n",
       " 'fahad123',\n",
       " 's0xwym7h',\n",
       " 'p2share',\n",
       " 'shotiko18',\n",
       " 'sandra0547',\n",
       " 'tahseen75',\n",
       " 'X9WVojjE4MgVAIiR',\n",
       " 'calcifer32',\n",
       " 'yuri110995',\n",
       " 'barboza221294',\n",
       " '4TXr5KDYxNQVTo4g',\n",
       " 'pHyqueDIyNQ8vmhb',\n",
       " 'seng987321',\n",
       " '283671gus',\n",
       " '1597535youssi',\n",
       " 'klara-tershina3H',\n",
       " 'djngeyut2707',\n",
       " 'yy4129',\n",
       " 'p@sslng2diword',\n",
       " 'sasuke4',\n",
       " 'pikey231',\n",
       " 'a2486315',\n",
       " '746xitEGiqObog',\n",
       " 'ycqtgdso3',\n",
       " 'tin030201',\n",
       " 'wycinu436',\n",
       " 'mayur@8netinfotech',\n",
       " 'ok>bdk',\n",
       " 'xyws951753',\n",
       " '2GnTStTE4Mw4MTwv',\n",
       " 'abizar08',\n",
       " 'woon12',\n",
       " '19821010a',\n",
       " 'just1n0k',\n",
       " 'xp;ysmybst',\n",
       " '26522876p',\n",
       " '0169395484a',\n",
       " 'oekojWyH120063',\n",
       " 'kinga22',\n",
       " 'ajyrew547',\n",
       " 'matiofox08',\n",
       " 'asv5o9yu',\n",
       " 'gutergut599',\n",
       " 'GGmm26120904..',\n",
       " 'rLLh4WDQ2OAWbDO5',\n",
       " '64959rodro',\n",
       " '3vszncp4',\n",
       " 'intel1',\n",
       " '4165000yakub',\n",
       " 'meriton23',\n",
       " 'ixehawojEPe418',\n",
       " 'sasuke4',\n",
       " 'YADHJIGSAWS11',\n",
       " 'ram@!sita15392',\n",
       " 'peluchin4',\n",
       " 'a0972986650',\n",
       " 'fudijep286',\n",
       " 'yqugu927',\n",
       " 'obstacle25',\n",
       " 'iwaguh884',\n",
       " 'zjl0kx03',\n",
       " 'junaid5',\n",
       " 'xlxlxl777',\n",
       " 'qefoquf1uf',\n",
       " 'TyWM72UNEex8Q8Y',\n",
       " 'fbjurcd961',\n",
       " 'poilkjmnb987',\n",
       " '2akira2',\n",
       " 'kuntz80',\n",
       " '1qa2ws3ed4rf',\n",
       " 'xiau5ff',\n",
       " 'sebo82',\n",
       " '123net123',\n",
       " 's0xwym7h',\n",
       " 'desmondkok21',\n",
       " 'kevin24',\n",
       " 's0xwym7h',\n",
       " 'k9b8cz6aj2',\n",
       " 'shotiko18',\n",
       " 'rntprns7',\n",
       " 'yut0838828185',\n",
       " 'w1ll1ams',\n",
       " 'lzhzad1989',\n",
       " 'alimagik1',\n",
       " 'edcmki90',\n",
       " 'zgmfnwuq25',\n",
       " 'gkrqjs6',\n",
       " 'universe2908',\n",
       " 'hodygid757',\n",
       " 'kah4544875',\n",
       " 'zgmfnwuq25',\n",
       " 'jalingo1',\n",
       " 'polo2014',\n",
       " 'sebax2013',\n",
       " 'oioo9og',\n",
       " 'Oshity07142014',\n",
       " 'wxS2ztDk4OATjBfI',\n",
       " 'legna13',\n",
       " '1katertje',\n",
       " 'hqh2eYjQxOQPYIsA',\n",
       " 'kXzWOozU2MQ1Jv1h',\n",
       " 'olyucskw52',\n",
       " 'sebax2013',\n",
       " 'aslanmarco007',\n",
       " '33kanun03',\n",
       " 'khurram_',\n",
       " 'asdasdf1',\n",
       " 'synyxyr723',\n",
       " 'ass359',\n",
       " 'webstudio8',\n",
       " 'hayhayq2',\n",
       " 'hasan18',\n",
       " 'rntprns7',\n",
       " 'gill02',\n",
       " 'oioo9og',\n",
       " 'qn5xpg3k00',\n",
       " 'c1brb3lt',\n",
       " 'nello11',\n",
       " 'jerusalem393',\n",
       " 'itengf12',\n",
       " 'exitos2009',\n",
       " 'yogesh143',\n",
       " 'khaled12',\n",
       " 'frhnsvelhfr1',\n",
       " 'mazdarx7',\n",
       " 'yuri110995',\n",
       " 'tahseen75',\n",
       " 'galoucura1',\n",
       " 'czuodhj972',\n",
       " '20010509wang',\n",
       " 'TyWM72UNEex8Q8Y',\n",
       " 'meriton23',\n",
       " 'viri13',\n",
       " 'GGmm26120904..',\n",
       " 'pedronha96',\n",
       " 'gill02',\n",
       " 'tia150979',\n",
       " 'DRAGON25',\n",
       " 'killer5',\n",
       " 'woaini0',\n",
       " 'isqizkg1',\n",
       " 'padhila30',\n",
       " 'coy29061994',\n",
       " 'witek1709',\n",
       " 'q0pv0fk',\n",
       " '1qa2ws3ed4rf',\n",
       " '1qa2ws3ed4rf',\n",
       " 'z888888',\n",
       " 'satelite31',\n",
       " 'p3rf3ct0',\n",
       " 'Scipio21152030067254',\n",
       " '2fakjv',\n",
       " 'ts34a3fodh3i',\n",
       " 'adminmao888',\n",
       " '33kanun03',\n",
       " 'meopvywk628',\n",
       " 'nK0yKXTU0NQHZE2e',\n",
       " 'RPFUOUDQwMwVW0AS',\n",
       " 'clyioqzgw42',\n",
       " 'vuqADUSatAJO800',\n",
       " 'woon12',\n",
       " 'x8512514',\n",
       " 'kunyukbabi69',\n",
       " 'g067057895',\n",
       " 'a2486315',\n",
       " 'g067057895',\n",
       " 'igejasy712',\n",
       " 'vehat387',\n",
       " '6yy6yy',\n",
       " 'gutergut599',\n",
       " 'tahseen75',\n",
       " 'hpqkoxsn5',\n",
       " 'finisterra1',\n",
       " '23deagosto',\n",
       " 'z7zbgIDkzMQeHUd9',\n",
       " 'kswa2mrv',\n",
       " 'josue12',\n",
       " '19821010a',\n",
       " 'franczuk33',\n",
       " 'J0LcDWDc2NAVE8j3',\n",
       " 'w1ll1ams',\n",
       " 'Zdyf0kjMzNQycqPx',\n",
       " 'a2531106',\n",
       " 'zeitgeist1',\n",
       " 'y0unus',\n",
       " '147963asd',\n",
       " 't8IkFRDIxMAFV2JW',\n",
       " 'calcifer32',\n",
       " 'examy624',\n",
       " 'hodygid757',\n",
       " 'memjan123',\n",
       " 'p2share',\n",
       " 'folashade1',\n",
       " 'aqyba894',\n",
       " 'autan88',\n",
       " 'wasanun13',\n",
       " 'gpc151192',\n",
       " 'autan88',\n",
       " 'hasan18',\n",
       " 'killer5',\n",
       " 'mike09',\n",
       " '3y6iwef2g6',\n",
       " 'mohantra1',\n",
       " 'X34y2CzY5MACs6kp',\n",
       " 'rqmswof2llb0',\n",
       " 'xve33ea',\n",
       " '838188linh',\n",
       " 'a03242241431a',\n",
       " 'xp;ysmybst',\n",
       " 'markama10',\n",
       " 'ihana906',\n",
       " 'pilatyj280',\n",
       " 'sbnivetha123',\n",
       " 'elonex24',\n",
       " 'X9WVojjE4MgVAIiR',\n",
       " 'jeeves123',\n",
       " 'gill02',\n",
       " 'naseKoBUMIg295',\n",
       " '123nicole',\n",
       " 'gpc151192',\n",
       " 'icap12',\n",
       " 'carla99',\n",
       " 'b9m7cxcgc',\n",
       " 'khurram_',\n",
       " 'caramelo9',\n",
       " 'YADHJIGSAWS11',\n",
       " 'yu4cmn',\n",
       " 'khurram_',\n",
       " 'faisal213',\n",
       " 'eVl19ADIxNAmU09N',\n",
       " 'virush1n1',\n",
       " 'virush1n1',\n",
       " 'kitty555',\n",
       " 'luiskeko31',\n",
       " 'nhfdff2512',\n",
       " 'RqsuUsDYxNgr8T40',\n",
       " 'twil8x0',\n",
       " 'xiau5ff',\n",
       " 'z3ro1sm',\n",
       " 'laedbchsx687',\n",
       " 'kevin24',\n",
       " 'lzhzad1989',\n",
       " 'padhila30',\n",
       " 'yk530mg8',\n",
       " 'JEQuloqOFUd102',\n",
       " '248sUqiFEJuRag',\n",
       " 'rsuvxz08b',\n",
       " '5gzj5uf',\n",
       " '6yy6yy',\n",
       " 'hlQ8gDTExMQWkeda',\n",
       " 'xf6385494',\n",
       " 'witek1709',\n",
       " '33kanun03',\n",
       " 'hqh2eYjQxOQPYIsA',\n",
       " 'PEPITO00',\n",
       " 'zedika521',\n",
       " 'webstudio8',\n",
       " 'servbot88',\n",
       " 'TyWM72UNEex8Q8Y',\n",
       " 'w9209640',\n",
       " 'woaini0',\n",
       " 'a110804032',\n",
       " 'exusop649',\n",
       " '090mca090',\n",
       " 'polo2014',\n",
       " 'growerz543',\n",
       " 'cribrot1200',\n",
       " 'PEPITO00',\n",
       " 'kah4544875',\n",
       " 'idofo673',\n",
       " 'jEzZXUTE3MgJ4fVk',\n",
       " 'wbtdrieus345',\n",
       " 'lqksuym982',\n",
       " '3y6iwef2g6',\n",
       " 'kVczcljg4OA25Aeb',\n",
       " '1ug2UKzQyMQBsleD',\n",
       " 'in595462',\n",
       " 'AS0130066',\n",
       " '000webhostcom',\n",
       " 'robot425',\n",
       " 'Oshity07142014',\n",
       " '52558000aaa',\n",
       " 'eVl19ADIxNAmU09N',\n",
       " 'jekkmoeder>',\n",
       " '7mV0pKTA3MgHy8Jv',\n",
       " 'holamundo1',\n",
       " 'daaxvie1',\n",
       " 'nikolas369',\n",
       " 'bgrvl80',\n",
       " 'holamundo1',\n",
       " 'novelia21',\n",
       " 'zedika521',\n",
       " 'ubojig109',\n",
       " 'a1233210',\n",
       " 'acetita478',\n",
       " 'wearehis7',\n",
       " 'visi7k1yr',\n",
       " 'yut0838828185',\n",
       " 'ppnyadam09',\n",
       " 'bc5e4vca',\n",
       " 'alhama11408',\n",
       " 'bellsuki1',\n",
       " 'khurram_',\n",
       " 'woaini0',\n",
       " 'padhila30',\n",
       " 'alodise603',\n",
       " 'samael666',\n",
       " 'gutergut599',\n",
       " 'groster152',\n",
       " 'tia150979',\n",
       " 'trabajonet9',\n",
       " 'speedracer10',\n",
       " 'pr0f1s10',\n",
       " 'nello11',\n",
       " 'j03l4ytr1',\n",
       " '0169395484a',\n",
       " '1katertje',\n",
       " 'barra23',\n",
       " 'hisnipes1',\n",
       " 'bagdas2011',\n",
       " '19840510kkk1',\n",
       " 'idofo673',\n",
       " 'mickael12',\n",
       " 'shotiko18',\n",
       " 'kate13',\n",
       " 'hot622204',\n",
       " 'AVYq1lDE4MgAZfNt',\n",
       " '4TXr5KDYxNQVTo4g',\n",
       " 'wuzyci421',\n",
       " 'mathilde54550',\n",
       " 'visi7k1yr',\n",
       " 'xve33ea',\n",
       " 'il0vey0u',\n",
       " 'c3h8bkzr',\n",
       " 'uzifyc502',\n",
       " 'c3h8bkzr',\n",
       " 'Scipio21152030067254',\n",
       " 'regodib479',\n",
       " 'cribrot1200',\n",
       " 'maulana79',\n",
       " '20010509wang',\n",
       " '01161590m',\n",
       " 'Oshity07142014',\n",
       " 'medebizu3',\n",
       " 'qwekl12',\n",
       " 'pastorius88',\n",
       " '101010hadis',\n",
       " 'sknq7m0',\n",
       " 'patty94',\n",
       " 'password0880',\n",
       " 'd6VyrkFV6oblxNs5N8cW',\n",
       " 'd4xQ3LjUwMQFVCYQ',\n",
       " 'j2yj2yj2y',\n",
       " 'regodib479',\n",
       " 'zoobike04',\n",
       " '01161590m',\n",
       " 'xtswdypgh936',\n",
       " 'RqsuUsDYxNgr8T40',\n",
       " 'faisal213',\n",
       " 'a110804032',\n",
       " 'lrhxmevb620',\n",
       " 'patty94',\n",
       " 'X34y2CzY5MACs6kp',\n",
       " 'obstacle25',\n",
       " 'wycinu436',\n",
       " '8g8x2su3',\n",
       " 'angelinajol52',\n",
       " 'zoobike04',\n",
       " 'papasito1991',\n",
       " '123456rajput',\n",
       " 'uoaef06gfqeb',\n",
       " '7942vikas',\n",
       " 'rsuvxz08b',\n",
       " 'kciseba24521',\n",
       " 'yqugu927',\n",
       " 'xve33ea',\n",
       " 'sbl571017',\n",
       " 'wisal1234',\n",
       " 'ts34a3fodh3i',\n",
       " 'tiga33',\n",
       " 'gill02',\n",
       " 'megdam55',\n",
       " 'hisnipes1',\n",
       " 'cristiano7',\n",
       " 'sanjaime1',\n",
       " '3CgRg8DA1NQY1iEj',\n",
       " 'luthien123',\n",
       " 'm4r4hne',\n",
       " 'in595462',\n",
       " 'desmondkok21',\n",
       " 'megzy123',\n",
       " 'Iamthelegend1!',\n",
       " 'ezekiel720',\n",
       " 'GGmm26120904..',\n",
       " 'mark11',\n",
       " 'djda1203zj',\n",
       " 'gaymaids1',\n",
       " 'princ3sa',\n",
       " 'ydkmujrze3',\n",
       " 'tiga33',\n",
       " 'fudijep286',\n",
       " '241189dumai',\n",
       " 'luiskeko31',\n",
       " 'as8594505',\n",
       " 'cristiano7',\n",
       " 'gpc151192',\n",
       " 'w9209640',\n",
       " 'jbtcnd6',\n",
       " 'jeeves123',\n",
       " 's0xwym7h',\n",
       " 'josef0867',\n",
       " 'wbtdrieus345',\n",
       " 'lqksuym982',\n",
       " 'bagdas2011',\n",
       " 'darza6534',\n",
       " 'housefly74',\n",
       " 'oatcake87',\n",
       " 'sergius1964',\n",
       " '4fqa52vecr',\n",
       " '1597535youssi',\n",
       " 'q0pv0fk',\n",
       " 'mtvwyz001',\n",
       " 'osimeytju12',\n",
       " 'kjkjkj1',\n",
       " 'keithar1',\n",
       " 'chiefwanker1',\n",
       " 'prisonbreak1',\n",
       " 'aan2900220',\n",
       " '1justogax',\n",
       " 'RqsuUsDYxNgr8T40',\n",
       " 'yut0838828185',\n",
       " 'cribrot1200',\n",
       " 'QWERTY0011',\n",
       " 'sono11',\n",
       " 'amandine666',\n",
       " 'kino3434',\n",
       " 'ikanez886',\n",
       " 'zeitgeist1',\n",
       " '1245386fj',\n",
       " 'GGmm26120904..',\n",
       " 'jl440033',\n",
       " 'w9209640',\n",
       " 'cc71797805',\n",
       " 'rogyh820',\n",
       " 'creeped12',\n",
       " 'poluxyj32',\n",
       " 'carla99',\n",
       " 'samael666',\n",
       " 'ineedyou23',\n",
       " 'IjUcOtYqAwel725',\n",
       " 'AVYq1lDE4MgAZfNt',\n",
       " 'fudijep286',\n",
       " 'irivur594',\n",
       " 'abizar08',\n",
       " 'e667794c1d',\n",
       " 'gill02',\n",
       " 'hard7ware',\n",
       " 'peter04',\n",
       " 'vijay1995',\n",
       " 'pxjwmeqyn5',\n",
       " 'ezekiel720',\n",
       " 'eeae14li',\n",
       " 'xf6385494',\n",
       " 'islamasma12',\n",
       " 'yogesh143',\n",
       " 'akfrdma813',\n",
       " 'designer1206',\n",
       " 'ilunia20',\n",
       " 'fbjurcd961',\n",
       " 'satelite31',\n",
       " 'ilunia20',\n",
       " 'chuno8704',\n",
       " 'xknagqo92',\n",
       " 'lolmdr1',\n",
       " 'prisonbreak1',\n",
       " '238wofutUtIGyf',\n",
       " 'owataantena1',\n",
       " 'mosad999',\n",
       " 'atigi839',\n",
       " 'ryjypes139',\n",
       " 'xf6385494',\n",
       " 'cxZLmFDYwNA1lUK9',\n",
       " 'bang6k',\n",
       " 'gerylyx688',\n",
       " 'jorge1489',\n",
       " 'atigi839',\n",
       " 'holamundo1',\n",
       " 'fk9qi21m',\n",
       " 'cristiano7',\n",
       " 'lamborghin1',\n",
       " 'bijou2012',\n",
       " 'hqh2eYjQxOQPYIsA',\n",
       " 'kyodai666',\n",
       " 'm4r4hne',\n",
       " 'eqomu958',\n",
       " 'pauramos06',\n",
       " 'ayles2266',\n",
       " 'mel008',\n",
       " '000webhostcom',\n",
       " '07dpv1127b',\n",
       " 'visi7k1yr',\n",
       " 'ass359',\n",
       " 'atigi839',\n",
       " 'webstudio8',\n",
       " 'olmaz.',\n",
       " 'kah4544875',\n",
       " 'topgan22',\n",
       " 'xiau5ff',\n",
       " 'jalingo1',\n",
       " 'emilly123',\n",
       " 'chiefwanker1',\n",
       " 'ab11223344',\n",
       " 'sanjaime1',\n",
       " 'naseKoBUMIg295',\n",
       " 'parent777',\n",
       " 'alhama11408',\n",
       " 'woaini0',\n",
       " 'admin123',\n",
       " 'caramelo9',\n",
       " 'islamasma12',\n",
       " 'fudijep286',\n",
       " 'elperro1',\n",
       " '3f5xd41l0ik7',\n",
       " 'saule123',\n",
       " 'sw10d014',\n",
       " 's4m2dx9e6',\n",
       " 'lucky7777',\n",
       " 'djawl1228',\n",
       " 'trust123',\n",
       " 'h3ndr4',\n",
       " 'kciseba24521',\n",
       " 'carla99',\n",
       " 'yy4129',\n",
       " 'mohantra1',\n",
       " 'sysoja794',\n",
       " 'holamundo1',\n",
       " 'VMjz4eTkxNAbOyUU',\n",
       " 'cyborged69',\n",
       " 'paola1995',\n",
       " 'persian13223',\n",
       " 'rLLh4WDQ2OAWbDO5',\n",
       " 'klara-tershina3H',\n",
       " 'sbnivetha123',\n",
       " '14sp2001',\n",
       " '4fqa52vecr',\n",
       " 'p3rf3ct0',\n",
       " '0847440744z',\n",
       " 'v1s2c3456',\n",
       " ...]"
      ]
     },
     "execution_count": 72,
     "metadata": {},
     "output_type": "execute_result"
    }
   ],
   "source": [
    "X"
   ]
  },
  {
   "cell_type": "markdown",
   "metadata": {},
   "source": [
    "### Password is determined strength is determined by each every chanracters we use. "
   ]
  },
  {
   "cell_type": "code",
   "execution_count": 73,
   "metadata": {},
   "outputs": [],
   "source": [
    "\n",
    "def word_divide_char(inputs):\n",
    "    characters=[]\n",
    "    for i in inputs:\n",
    "        characters.append(i)\n",
    "    return characters"
   ]
  },
  {
   "cell_type": "code",
   "execution_count": 74,
   "metadata": {},
   "outputs": [],
   "source": [
    "vectorizer=TfidfVectorizer(tokenizer=word_divide_char)\n",
    "X=vectorizer.fit_transform(X)\n"
   ]
  },
  {
   "cell_type": "code",
   "execution_count": 75,
   "metadata": {},
   "outputs": [
    {
     "data": {
      "text/plain": [
       "(669639, 127)"
      ]
     },
     "execution_count": 75,
     "metadata": {},
     "output_type": "execute_result"
    }
   ],
   "source": [
    "X.shape"
   ]
  },
  {
   "cell_type": "code",
   "execution_count": 76,
   "metadata": {},
   "outputs": [
    {
     "data": {
      "text/plain": [
       "{'k': 60,\n",
       " 'z': 75,\n",
       " 'd': 53,\n",
       " 'e': 54,\n",
       " '5': 33,\n",
       " '7': 35,\n",
       " 'v': 71,\n",
       " 'i': 58,\n",
       " 's': 68,\n",
       " '1': 29,\n",
       " 'y': 74,\n",
       " 'r': 67,\n",
       " 'l': 61,\n",
       " 'a': 50,\n",
       " 'm': 62,\n",
       " 'b': 51,\n",
       " 'o': 64,\n",
       " 'g': 56,\n",
       " 'h': 57,\n",
       " 'n': 63,\n",
       " 'q': 66,\n",
       " '4': 32,\n",
       " 'f': 55,\n",
       " 't': 69,\n",
       " '2': 30,\n",
       " '3': 31,\n",
       " 'u': 70,\n",
       " '9': 37,\n",
       " '0': 28,\n",
       " '8': 36,\n",
       " '6': 34,\n",
       " 'c': 52,\n",
       " 'w': 72,\n",
       " 'p': 65,\n",
       " '@': 43,\n",
       " 'j': 59,\n",
       " '-': 25,\n",
       " 'x': 73,\n",
       " '.': 26,\n",
       " '&': 20,\n",
       " '?': 42,\n",
       " '>': 41,\n",
       " '<': 39,\n",
       " '!': 15,\n",
       " '_': 48,\n",
       " ';': 38,\n",
       " '±': 86,\n",
       " ' ': 14,\n",
       " '\"': 16,\n",
       " '~': 79,\n",
       " '+': 24,\n",
       " '^': 47,\n",
       " '/': 27,\n",
       " '$': 18,\n",
       " ')': 22,\n",
       " '%': 19,\n",
       " '#': 17,\n",
       " '(': 21,\n",
       " '*': 23,\n",
       " '{': 76,\n",
       " '}': 78,\n",
       " '[': 44,\n",
       " ']': 46,\n",
       " 'ú': 116,\n",
       " '\\\\': 45,\n",
       " 'þ': 120,\n",
       " 'ó': 111,\n",
       " '=': 40,\n",
       " '³': 88,\n",
       " '\\x1c': 12,\n",
       " 'ô': 112,\n",
       " '`': 49,\n",
       " '¿': 93,\n",
       " '\\x05': 1,\n",
       " '\\x1b': 11,\n",
       " '\\x19': 10,\n",
       " 'ß': 95,\n",
       " 'å': 101,\n",
       " '‚': 124,\n",
       " 'ä': 100,\n",
       " 'à': 96,\n",
       " 'õ': 113,\n",
       " 'ð': 108,\n",
       " '\\x16': 7,\n",
       " 'ò': 110,\n",
       " '·': 90,\n",
       " '\\x1e': 13,\n",
       " '|': 77,\n",
       " '°': 85,\n",
       " '²': 87,\n",
       " 'â': 98,\n",
       " '\\x7f': 80,\n",
       " 'ý': 119,\n",
       " 'û': 117,\n",
       " '«': 84,\n",
       " '¾': 92,\n",
       " '÷': 114,\n",
       " 'í': 107,\n",
       " '\\x08': 3,\n",
       " 'ê': 106,\n",
       " 'á': 97,\n",
       " 'ü': 118,\n",
       " 'ù': 115,\n",
       " 'ÿ': 121,\n",
       " '×': 94,\n",
       " '\\x10': 5,\n",
       " '—': 123,\n",
       " '\\x11': 6,\n",
       " 'ç': 103,\n",
       " '\\x17': 8,\n",
       " 'ñ': 109,\n",
       " 'æ': 102,\n",
       " '¦': 83,\n",
       " '\\x0f': 4,\n",
       " '\\xa0': 82,\n",
       " 'è': 104,\n",
       " 'é': 105,\n",
       " '\\x06': 2,\n",
       " '\\x8d': 81,\n",
       " 'µ': 89,\n",
       " 'º': 91,\n",
       " '\\x02': 0,\n",
       " '›': 126,\n",
       " '‹': 125,\n",
       " 'œ': 122,\n",
       " '\\x18': 9,\n",
       " 'ã': 99}"
      ]
     },
     "execution_count": 76,
     "metadata": {},
     "output_type": "execute_result"
    }
   ],
   "source": [
    "vectorizer.vocabulary_"
   ]
  },
  {
   "cell_type": "markdown",
   "metadata": {},
   "source": [
    "### We created a vector of length 127 entry."
   ]
  },
  {
   "cell_type": "code",
   "execution_count": 78,
   "metadata": {},
   "outputs": [
    {
     "data": {
      "text/plain": [
       "<669639x127 sparse matrix of type '<class 'numpy.float64'>'\n",
       "\twith 5644090 stored elements in Compressed Sparse Row format>"
      ]
     },
     "execution_count": 78,
     "metadata": {},
     "output_type": "execute_result"
    }
   ],
   "source": [
    "X"
   ]
  },
  {
   "cell_type": "markdown",
   "metadata": {},
   "source": [
    "### To see how our pass word is converted to vector. WE take example."
   ]
  },
  {
   "cell_type": "code",
   "execution_count": 80,
   "metadata": {},
   "outputs": [
    {
     "data": {
      "text/plain": [
       "'kzde5577'"
      ]
     },
     "execution_count": 80,
     "metadata": {},
     "output_type": "execute_result"
    }
   ],
   "source": [
    "data.iloc[0,0]"
   ]
  },
  {
   "cell_type": "code",
   "execution_count": 81,
   "metadata": {},
   "outputs": [
    {
     "data": {
      "text/html": [
       "<div>\n",
       "<style scoped>\n",
       "    .dataframe tbody tr th:only-of-type {\n",
       "        vertical-align: middle;\n",
       "    }\n",
       "\n",
       "    .dataframe tbody tr th {\n",
       "        vertical-align: top;\n",
       "    }\n",
       "\n",
       "    .dataframe thead th {\n",
       "        text-align: right;\n",
       "    }\n",
       "</style>\n",
       "<table border=\"1\" class=\"dataframe\">\n",
       "  <thead>\n",
       "    <tr style=\"text-align: right;\">\n",
       "      <th></th>\n",
       "      <th>tfidf</th>\n",
       "    </tr>\n",
       "  </thead>\n",
       "  <tbody>\n",
       "    <tr>\n",
       "      <th>7</th>\n",
       "      <td>0.590633</td>\n",
       "    </tr>\n",
       "    <tr>\n",
       "      <th>5</th>\n",
       "      <td>0.567737</td>\n",
       "    </tr>\n",
       "    <tr>\n",
       "      <th>z</th>\n",
       "      <td>0.336143</td>\n",
       "    </tr>\n",
       "    <tr>\n",
       "      <th>k</th>\n",
       "      <td>0.292168</td>\n",
       "    </tr>\n",
       "    <tr>\n",
       "      <th>d</th>\n",
       "      <td>0.285630</td>\n",
       "    </tr>\n",
       "    <tr>\n",
       "      <th>...</th>\n",
       "      <td>...</td>\n",
       "    </tr>\n",
       "    <tr>\n",
       "      <th>;</th>\n",
       "      <td>0.000000</td>\n",
       "    </tr>\n",
       "    <tr>\n",
       "      <th>9</th>\n",
       "      <td>0.000000</td>\n",
       "    </tr>\n",
       "    <tr>\n",
       "      <th>8</th>\n",
       "      <td>0.000000</td>\n",
       "    </tr>\n",
       "    <tr>\n",
       "      <th>6</th>\n",
       "      <td>0.000000</td>\n",
       "    </tr>\n",
       "    <tr>\n",
       "      <th>›</th>\n",
       "      <td>0.000000</td>\n",
       "    </tr>\n",
       "  </tbody>\n",
       "</table>\n",
       "<p>127 rows × 1 columns</p>\n",
       "</div>"
      ],
      "text/plain": [
       "       tfidf\n",
       "7   0.590633\n",
       "5   0.567737\n",
       "z   0.336143\n",
       "k   0.292168\n",
       "d   0.285630\n",
       "..       ...\n",
       ";   0.000000\n",
       "9   0.000000\n",
       "8   0.000000\n",
       "6   0.000000\n",
       "›   0.000000\n",
       "\n",
       "[127 rows x 1 columns]"
      ]
     },
     "execution_count": 81,
     "metadata": {},
     "output_type": "execute_result"
    }
   ],
   "source": [
    "feature_names = vectorizer.get_feature_names()\n",
    " \n",
    "#get tfidf vector for first document\n",
    "first_document_vector=X[0]\n",
    " \n",
    "#print the scores\n",
    "df = pd.DataFrame(first_document_vector.T.todense(), index=feature_names, columns=[\"tfidf\"])\n",
    "df.sort_values(by=[\"tfidf\"],ascending=False)"
   ]
  },
  {
   "cell_type": "markdown",
   "metadata": {},
   "source": [
    "## Prediction. "
   ]
  },
  {
   "cell_type": "markdown",
   "metadata": {},
   "source": [
    "#### Logistic Regression."
   ]
  },
  {
   "cell_type": "code",
   "execution_count": 82,
   "metadata": {},
   "outputs": [],
   "source": [
    "\n",
    "from sklearn.linear_model import LogisticRegression\n",
    "from sklearn.model_selection import train_test_split"
   ]
  },
  {
   "cell_type": "markdown",
   "metadata": {},
   "source": [
    "#### Train Test split."
   ]
  },
  {
   "cell_type": "code",
   "execution_count": 84,
   "metadata": {},
   "outputs": [],
   "source": [
    "X_train, X_test, y_train, y_test = train_test_split(X, y, test_size=0.20, random_state=42)  #splitting"
   ]
  },
  {
   "cell_type": "code",
   "execution_count": 85,
   "metadata": {},
   "outputs": [
    {
     "data": {
      "text/plain": [
       "LogisticRegression(C=1.0, class_weight=None, dual=False, fit_intercept=True,\n",
       "                   intercept_scaling=1, l1_ratio=None, max_iter=100,\n",
       "                   multi_class='ovr', n_jobs=None, penalty='l2',\n",
       "                   random_state=None, solver='lbfgs', tol=0.0001, verbose=0,\n",
       "                   warm_start=False)"
      ]
     },
     "execution_count": 85,
     "metadata": {},
     "output_type": "execute_result"
    }
   ],
   "source": [
    "log_class=LogisticRegression(penalty='l2',multi_class='ovr')\n",
    "log_class.fit(X_train,y_train)"
   ]
  },
  {
   "cell_type": "markdown",
   "metadata": {},
   "source": [
    "### Check how the model performes"
   ]
  },
  {
   "cell_type": "code",
   "execution_count": 23,
   "metadata": {},
   "outputs": [
    {
     "name": "stdout",
     "output_type": "stream",
     "text": [
      "0.8125037333492623\n"
     ]
    }
   ],
   "source": [
    "print(log_class.score(X_test,y_test))"
   ]
  },
  {
   "cell_type": "markdown",
   "metadata": {},
   "source": [
    "### Using multiclass classifier."
   ]
  },
  {
   "cell_type": "code",
   "execution_count": 86,
   "metadata": {},
   "outputs": [
    {
     "name": "stdout",
     "output_type": "stream",
     "text": [
      "0.8224419090854788\n"
     ]
    }
   ],
   "source": [
    "clf = LogisticRegression(random_state=0, multi_class='multinomial', solver='newton-cg')\n",
    "clf.fit(X_train, y_train) #training\n",
    "print(clf.score(X_test, y_test))"
   ]
  },
  {
   "cell_type": "markdown",
   "metadata": {},
   "source": [
    "### Example "
   ]
  },
  {
   "cell_type": "code",
   "execution_count": 87,
   "metadata": {},
   "outputs": [
    {
     "name": "stdout",
     "output_type": "stream",
     "text": [
      "[2]\n"
     ]
    }
   ],
   "source": [
    "X_predict=np.array([\"%@123abcd\"])\n",
    "X_predict=vectorizer.transform(X_predict)\n",
    "y_pred=log_class.predict(X_predict)\n",
    "print(y_pred)"
   ]
  },
  {
   "cell_type": "code",
   "execution_count": 88,
   "metadata": {},
   "outputs": [
    {
     "name": "stdout",
     "output_type": "stream",
     "text": [
      "[0]\n"
     ]
    }
   ],
   "source": [
    "X_predict=np.array([\"abcdef\"])\n",
    "X_predict=vectorizer.transform(X_predict)\n",
    "y_pred=log_class.predict(X_predict)\n",
    "print(y_pred)"
   ]
  },
  {
   "cell_type": "code",
   "execution_count": 89,
   "metadata": {},
   "outputs": [
    {
     "name": "stdout",
     "output_type": "stream",
     "text": [
      "[1]\n"
     ]
    }
   ],
   "source": [
    "X_predict=np.array([\"l123abcd\"])\n",
    "X_predict=vectorizer.transform(X_predict)\n",
    "y_pred=log_class.predict(X_predict)\n",
    "print(y_pred)"
   ]
  },
  {
   "cell_type": "markdown",
   "metadata": {},
   "source": [
    "## SVM Algoritm"
   ]
  },
  {
   "cell_type": "code",
   "execution_count": 93,
   "metadata": {},
   "outputs": [],
   "source": [
    "from sklearn import svm"
   ]
  },
  {
   "cell_type": "code",
   "execution_count": null,
   "metadata": {},
   "outputs": [],
   "source": [
    "clf = svm.SVC(decision_function_shape='ovo')\n",
    "clf.fit(X_train, y_train)\n",
    "print(clf.score(X_test, y_test))"
   ]
  },
  {
   "cell_type": "markdown",
   "metadata": {},
   "source": [
    "## Xgboost Algorithm"
   ]
  },
  {
   "cell_type": "code",
   "execution_count": 90,
   "metadata": {},
   "outputs": [],
   "source": [
    "import  xgboost as xgb"
   ]
  },
  {
   "cell_type": "code",
   "execution_count": 91,
   "metadata": {},
   "outputs": [],
   "source": [
    "xgb_classifier = xgb.XGBClassifier()"
   ]
  },
  {
   "cell_type": "code",
   "execution_count": 92,
   "metadata": {},
   "outputs": [
    {
     "data": {
      "text/plain": [
       "XGBClassifier(base_score=0.5, booster='gbtree', colsample_bylevel=1,\n",
       "              colsample_bynode=1, colsample_bytree=1, gamma=0, gpu_id=-1,\n",
       "              importance_type='gain', interaction_constraints='',\n",
       "              learning_rate=0.300000012, max_delta_step=0, max_depth=6,\n",
       "              min_child_weight=1, missing=nan, monotone_constraints='()',\n",
       "              n_estimators=100, n_jobs=0, num_parallel_tree=1,\n",
       "              objective='multi:softprob', random_state=0, reg_alpha=0,\n",
       "              reg_lambda=1, scale_pos_weight=None, subsample=1,\n",
       "              tree_method='exact', validate_parameters=1, verbosity=None)"
      ]
     },
     "execution_count": 92,
     "metadata": {},
     "output_type": "execute_result"
    }
   ],
   "source": [
    "xgb_classifier.fit(X_train, y_train) "
   ]
  },
  {
   "cell_type": "code",
   "execution_count": 31,
   "metadata": {},
   "outputs": [
    {
     "data": {
      "text/plain": [
       "0.9865450092587061"
      ]
     },
     "execution_count": 31,
     "metadata": {},
     "output_type": "execute_result"
    }
   ],
   "source": [
    "xgb_classifier.score(X_test,y_test)"
   ]
  },
  {
   "cell_type": "code",
   "execution_count": null,
   "metadata": {},
   "outputs": [],
   "source": [
    "X_predict=np.array([\"abcdef\"])\n",
    "X_predict=vectorizer.transform(X_predict)\n",
    "y_pred=log_class.predict(X_predict)\n",
    "print(y_pred)"
   ]
  },
  {
   "cell_type": "code",
   "execution_count": null,
   "metadata": {},
   "outputs": [],
   "source": [
    "X_predict=np.array([\"l123abcd\"])\n",
    "X_predict=vectorizer.transform(X_predict)\n",
    "y_pred=log_class.predict(X_predict)\n",
    "print(y_pred)"
   ]
  },
  {
   "cell_type": "code",
   "execution_count": null,
   "metadata": {},
   "outputs": [],
   "source": [
    "X_predict=np.array([\"%@123abcd\"])\n",
    "X_predict=vectorizer.transform(X_predict)\n",
    "y_pred=log_class.predict(X_predict)\n",
    "print(y_pred)"
   ]
  },
  {
   "cell_type": "markdown",
   "metadata": {},
   "source": [
    "# MultinomialNB"
   ]
  },
  {
   "cell_type": "code",
   "execution_count": 36,
   "metadata": {},
   "outputs": [],
   "source": [
    "from sklearn.naive_bayes import MultinomialNB\n",
    "nb_classifier = MultinomialNB()"
   ]
  },
  {
   "cell_type": "code",
   "execution_count": 37,
   "metadata": {},
   "outputs": [
    {
     "data": {
      "text/plain": [
       "MultinomialNB()"
      ]
     },
     "execution_count": 37,
     "metadata": {},
     "output_type": "execute_result"
    }
   ],
   "source": [
    "nb_classifier.fit(X_train, y_train) "
   ]
  },
  {
   "cell_type": "code",
   "execution_count": 38,
   "metadata": {},
   "outputs": [
    {
     "data": {
      "text/plain": [
       "0.7432874380264023"
      ]
     },
     "execution_count": 38,
     "metadata": {},
     "output_type": "execute_result"
    }
   ],
   "source": [
    "nb_classifier.score(X_test,y_test)"
   ]
  },
  {
   "cell_type": "code",
   "execution_count": 40,
   "metadata": {},
   "outputs": [
    {
     "name": "stdout",
     "output_type": "stream",
     "text": [
      "[1]\n"
     ]
    }
   ],
   "source": [
    "X_predict=np.array([\"123abcd\"])\n",
    "X_predict=vectorizer.transform(X_predict)\n",
    "y_pred=log_class.predict(X_predict)\n",
    "print(y_pred)"
   ]
  },
  {
   "cell_type": "code",
   "execution_count": null,
   "metadata": {},
   "outputs": [],
   "source": []
  }
 ],
 "metadata": {
  "kernelspec": {
   "display_name": "Python 3",
   "language": "python",
   "name": "python3"
  },
  "language_info": {
   "codemirror_mode": {
    "name": "ipython",
    "version": 3
   },
   "file_extension": ".py",
   "mimetype": "text/x-python",
   "name": "python",
   "nbconvert_exporter": "python",
   "pygments_lexer": "ipython3",
   "version": "3.8.3"
  }
 },
 "nbformat": 4,
 "nbformat_minor": 4
}
